{
  "nbformat": 4,
  "nbformat_minor": 0,
  "metadata": {
    "colab": {
      "name": "Ass3_13101023.ipynb",
      "provenance": []
    },
    "kernelspec": {
      "name": "python3",
      "display_name": "Python 3"
    }
  },
  "cells": [
    {
      "cell_type": "code",
      "metadata": {
        "id": "otxc6JCFl9vd",
        "colab_type": "code",
        "colab": {}
      },
      "source": [
        "# Project Title\n"
      ],
      "execution_count": 0,
      "outputs": []
    },
    {
      "cell_type": "code",
      "metadata": {
        "id": "rQKPocMHZVEK",
        "colab_type": "code",
        "colab": {}
      },
      "source": [
        ""
      ],
      "execution_count": 0,
      "outputs": []
    },
    {
      "cell_type": "markdown",
      "metadata": {
        "id": "sgOGAJzSDW8M",
        "colab_type": "text"
      },
      "source": [
        "# Project Title\n",
        "Applying marketing tools and virtual reality technology \n",
        "in real estate trading in Sydney\n"
      ]
    },
    {
      "cell_type": "code",
      "metadata": {
        "id": "MTHk6xEXDap-",
        "colab_type": "code",
        "colab": {}
      },
      "source": [
        "# Aim"
      ],
      "execution_count": 0,
      "outputs": []
    },
    {
      "cell_type": "markdown",
      "metadata": {
        "id": "LpBGWufRDehL",
        "colab_type": "text"
      },
      "source": [
        "# Aim\n",
        "\n",
        "The aim of this research is to develop a system which can have a positive impact for property agents to apply effective marketing tools in Sydney, and the system will help agents reduce operating cost, expand market share and increase work efficiency. "
      ]
    },
    {
      "cell_type": "code",
      "metadata": {
        "id": "uXcEkZVoDqtA",
        "colab_type": "code",
        "colab": {}
      },
      "source": [
        ""
      ],
      "execution_count": 0,
      "outputs": []
    },
    {
      "cell_type": "markdown",
      "metadata": {
        "id": "UJXkYxldDrUa",
        "colab_type": "text"
      },
      "source": [
        "\n",
        "## Objectives \n",
        "In this stage, we figure out there are some drawbacks of Domain.com and realEstate.com, and they cannot have online inspection and they cannot track the appetite of potential clients and change the promotion method to attract them. Thus, we set up the following objectives to build a system to fix those problems. \n",
        "\n",
        "The objectives are related to the aims of the whole project as following:\n",
        "\t\n",
        "Collect related messages from the agents and associated tenants’ information, and classify the tenants into different groups \n",
        "\tAnalysis the characteristics of the potential tenants in Sydney \n",
        "\tBuilding a proper system to send the effective information to them \n",
        "\tIdentify the benefits brought to agents with the help of the tools and systems built in this research\n",
        "\tValidate and deploy the models and systems \n",
        "\tRealize the virtual experience in inspection online \n",
        "\n",
        "## Expected outcomes\n",
        "There are many benefits related to the improvements in terms of cost saving for the advertisements and effectiveness of the promotion of property agents. Firstly, nowadays, property agents pay more attention on how to promote the properties to potential clients with the use of Internet advertisement through the data analysis. But nowadays, in Australia, most agents only use Domain.com and realestate.com to find properties. From this study, our aim is to analysis the data from different social media and tenants’ information to summarize the features and internet search habits of the tenants. Secondly, after analysing the tenants’ habits, we build a database which includes the materials and targets of the projects. \n",
        "\n",
        "* Collect data from different kinds of social media, like Facebook, Twitter, Domain.com users and RealEstate.com users. \n",
        "\n",
        "* Tracking the habitats of Internet searching to have a good command of potential clients’ interests\n",
        "* People who visits the website can have access to a virtual reality of each property\n",
        "\n",
        "\n",
        "# Background \n",
        "\n",
        "Larsen et al. (2007) investigate how the consumers found their real estate agent, apart from 30.9% from relatives and 20.5% from friends, even though there are more than 73% households is able to access the Internet and gain the information on website, but there are 2.9% from the Internet and less than 0.1% from yellow paper. But recently the situation changed, Series & Science (2019) have a research to evaluate the effectiveness of advertisement and marketing tools in the real estate agent in Krakow. They use a cross-sectional analysis to evaluate the performance of marketing methods and collect empirical data from promotion advertisements websites, social media and Internet methods like virtual reality. Mcdonagh et al. (2006) indicate that over 80% of tenants and landlords have access to Internet to buying, selling or renting properties, since the large cost of expense from traditional newspaper advertisements or the TV advertisements. In addition, with the development of the data science, website can track the target audience who want to rent apartment and send them more information about rental properties near them. The results indicate that the highest level of effectiveness to influence clients is advertisements websites and online advertising and the lowest level of advertisements is radio and television advertisement. Thus, the new technology is able to connect clients and agents in a more effective way.\n",
        "\n",
        "\n",
        "In Sydney, Domain.com and RealEstate play important role in Australian properties’ markets. People will use these two applications to find the suitable properties. But there are two drawbacks, one is that these two applications only used by people who enter their official websites or platforms on mobile phones, and they do not track the characteristic of the potential tenant. Another one is if you want to arrange an inspection for a property, you must send the request to the agents on the website. You cannot watch video or use Virtual reality technology to have a virtual experience to the apartments. \n",
        "\n",
        "Hendel, Nevo & Ortalo-magné (2007) check the dynamic relationship between two networks, namely FSBO (For-Sale-By-Owner) and MLS (Multiple listing service). FSBO has a higher level of market share than MLS, since different structure in the industry of brokerage industry and marketing methods. Other studies indicate that MLS becomes more publicly available(Wi n.d.).The reason why MLS has more advantages than the other one is that they have multiple listing services. Furthermore, Ayodele & Babajide (2015) investigate the use of the social media for the properties transaction and use 137 surveys and the tested social media ranges from Facebook, Youtube and Twitter. The results of this paper show that social media has gained the popularity to bring the services and the properties promotion to the potential clients. There are many advantages of social media to promote the properties as following: social media is able to build an effective way of communications between agents and clients with lower level of expense(Measuring 2010). However, there are some drawbacks of the social media like lacking of licensed professional. Yuan et al. (2013) also think that use of internet technology does not have a positive impact on homebuyers since the search results contain too many flexible results. The system which combines user-oriented function and case-based function improves time effectiveness for the potential clients. Shaibu & Taiwo (2015) indicate that the influence from modern marketing concept in which consumers of buyers’ behaviour and the data science technology is included(Janet n.d.). \n",
        "\n",
        "In this case, we collect data of Internet browse appetite by tracking the search from potential tenants with the platform, like Facebook or Twitter. Then this research will evaluate the effectiveness of social media to the properties.  \n",
        "\n",
        "# Project Scenario\n",
        "## Project Significance \n",
        "By tracking the internet appetite search, our new system will have a good understanding of what types of properties the potential tenants like. For the tenants, it is time saving to find a good place to live in. For the agents, the systems help tenants and properties to match each other. Agents will change the situation. Previously, lease property managers will open the house or the apartments every Saturday morning and wait for the potential tenants to visit the properties. With the new system, the rate of achievements to lease the properties will increase, people will be matched with proper price range and appreciate environment and even furniture styles instead of listing all the interested location and visiting each of them. \n",
        "\n",
        "This new system also reduces the communication costs, especially for some overseas students. The new system encourages potential tenants to have a virtual experience in the properties which they are interested in on the website. In each property on the system, there is a virtual reality video to help tenants have a good command of what is look like in each room and environments surrounding. If they like the apartments, they can submit the application form, Students ID and bank statement online. It is quite convenience for students from overseas countries. As long as they arrive Sydney, they will have an ideal place to live in.\n",
        "\n",
        "## Project innovation \n",
        "The innovation of this system is mainly based on two aspects. \n",
        "\tApplying the hi-tech in the system, like virtual reality. This innovation is never used in Australian property management website. \n",
        "\tThe first case to help the overseas people or people not in Sydney to have an inspection to the properties. \n",
        "\tThis system first time to use tracking data technology to match the appetite of their potential interests \n",
        "\n",
        "## Action plan \n",
        "In this stage, we consider the objectives and expected applications in the project. It is quite important to define the scope of the tasks. This project can be divided into four different tasks as following.\n",
        "\n",
        "### Research on the current management tools \n",
        "<br>\n",
        "The first stage is to do some research related to the project. In this stage, the advantages and drawbacks of current tools will be listed. Then the scopes will be defined in this stage, the functions In Scope like purchasing hardware, construct network, setup database and install task have fully described. In this stage, the survey will be taken into consideration, and with survey the information of clients is collected. \n",
        "\n",
        "### Build models to solve the problems \n",
        "In this stage, there are two main tasks. One is to make assumption of the project, including the stakeholders and their responsibilities. Other task is an overview to solution to the project, one is to realize the virtual reality to have an online inspection, and use big data science to track the browse appetite to summarize the features of the potential clients. In this part, the deep learning model can be established. Firstly, identifying the relevant data and do the data cleaning task to get well-prepared for the models. In this stage, we can use 3 years data as training data and half year data to test the validation of model.\n",
        "### Develop the system \n",
        "In this stage, developing a system which can help potential tenants to do the virtual inspection by the help of models in the previous stage. Once the models are built in the previous stage, there is an expectation to provide an application or website, and potential tenants can login as users. This system will start after the database built and the software and hardware has been installed \n",
        "### Test and modify the system \n",
        "The last stage is to test and modify the models and systems. In this part, we may set a demo to ask user to have experience the system for a short period of time, and gain some feedback to modify the system. \n",
        "\n",
        "## Timelines \n",
        "This project will be finished within a year in the following four different stages. \n",
        "\n",
        "* Research on the current management tools ——2 months\n",
        "\n",
        "*   Build models to solve the problems ——7 months\n",
        "*   Develop the system ——2 months \n",
        "* Test and modify the system ——1 month\n",
        "\n",
        "# Budget \n",
        "\n",
        "The budget below in the table shows the costs in different parts, like venue, equipment, salary, allowance and contingencies. The main parts is blue and the details are shown as following.\n",
        "\n",
        "# Personal \n",
        "\n",
        "This part describes details about the employees who is required to fulfil the project and the contribution is divided as following:\n",
        "* Principal investigator\n",
        ">The principal investigators is the person who always make the final decisions in each step and in charge of the important resources in the whole project. \n",
        "* Research assistant \n",
        ">After collection the effective data, the research assistants will help data scientists to do some classifiers or the statistical tasks about the data. \n",
        "* Data scientists\n",
        ">They will build the data models and predict the appetite of the potential clients.\n",
        "* Systems and models developer\n",
        ">System and model developers will use the results from data scientists to realize the shared target in the project. \n",
        "* Marketing consultant \n",
        ">The marketing consultant is in charge of advertisement promotion in different sorts of media. \n",
        "\n",
        "\n",
        "# References \n",
        "\n",
        "\n",
        "\n",
        "\n",
        "\n",
        "\n",
        "\n"
      ]
    },
    {
      "cell_type": "markdown",
      "metadata": {
        "id": "ocAlIu3jZW-g",
        "colab_type": "text"
      },
      "source": [
        "Ayodele, O.M. & Babajide, O. 2015, Assessment of Use of Social Media in Real Estate Transactions in Lagos Property Market, vol. 1, no. 2, pp. 63– 8. \n",
        " <br>\n",
        " \n",
        "Hendel, I., Nevo, A. & Ortalo-magné, F. 2007, THE RELATIVE PERFORMANCE OF REAL ESTATE MARKETING PLATFORMS.\n",
        "<br>\n",
        "\n",
        "Janet, X. n.d., Lai, Ying, School of Translation and Interpretation, Zhongshan University, Guangzhou Ge, Xin Janet, School of the Built Environment, University of Technology Sydney, Australia.\n",
        "<br>\n",
        "\n",
        "Larsen, J.E., Coleman, J., State, W. & Gulas, C.S. 2007, An Investigation of Promotional Outlet Effectiveness for Ohio Real Estate Brokers An Investigation of Promotional Outlet Effectiveness for Ohio Real Estate Brokers A Research Report submitted to.\n",
        "<br>\n",
        "\n",
        "Mcdonagh, J., Lecturer, S., Group, P. & Zealand, N. 2006, Trends in the Use of the Internet for Marketing Residential Real Estate in New Zealand, no. January.\n",
        "<br>\n",
        "\n",
        "Measuring, S.O.F. 2010, ( 12 ) Patent Application Publication ( 10 ) Pub . No .: US 2010 / 0131356 A1, vol. 1, no. 19.\n",
        "<br>\n",
        "\n",
        "Series, I.O.P.C. & Science, M. 2019, Effectiveness of Applying Marketing Tools in Real Estate Trading.\n",
        "<br>\n",
        "\n",
        "Shaibu, S.K. & Taiwo, G.J. 2015, A survey of important attributes for marketing real estate developments in metropolitan ibadan property market, nigeria., vol. 4, no. 04, pp. 25–40.\n",
        "<br>\n",
        "\n",
        "Yuan, X., Lee, J., Kim, S. & Kim, Y. 2013, 'Toward a user-oriented recommendation system for real estate websites', Information Systems, vol. 38, no. 2, pp. 231–43."
      ]
    }
  ]
}